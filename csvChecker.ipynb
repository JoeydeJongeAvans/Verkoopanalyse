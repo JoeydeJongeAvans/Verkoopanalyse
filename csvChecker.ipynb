{
 "cells": [
  {
   "cell_type": "markdown",
   "metadata": {},
   "source": [
    "Deze Methode zorgt ervoor dat de binnengekomen CSV data gecontroleerd wordt op missende values om te zorgen dat het dashboard goede waardes toont."
   ]
  },
  {
   "cell_type": "code",
   "execution_count": 2,
   "metadata": {},
   "outputs": [
    {
     "name": "stdout",
     "output_type": "stream",
     "text": [
      "No missing values found in data/klanten_data.csv\n",
      "Cleaned data saved to data/cleanData/klanten_data.csv\n",
      "No missing values found in data/producten_data.csv\n",
      "Cleaned data saved to data/cleanData/producten_data.csv\n",
      "No missing values found in data/transacties_data.csv\n",
      "Cleaned data saved to data/cleanData/transacties_data.csv\n"
     ]
    }
   ],
   "source": [
    "import pandas as pd\n",
    "\n",
    "def remove_missing_values(csv_file_path, output_csv_path=None):\n",
    "    # Read the CSV file into a pandas DataFrame\n",
    "    df = pd.read_csv(csv_file_path)\n",
    "\n",
    "    # Remove rows with missing values\n",
    "    df_cleaned = df.dropna()\n",
    "\n",
    "    # Print information about removed rows\n",
    "    removed_rows = len(df) - len(df_cleaned)\n",
    "    if removed_rows > 0:\n",
    "        print(f\"Removed {removed_rows} rows with missing values from {csv_file_path}\")\n",
    "    else:\n",
    "        print(f\"No missing values found in {csv_file_path}\")\n",
    "\n",
    "    # Save the cleaned DataFrame to a new CSV file if output_csv_path is provided\n",
    "    if output_csv_path:\n",
    "        df_cleaned.to_csv(output_csv_path, index=False)\n",
    "        print(f\"Cleaned data saved to {output_csv_path}\")\n",
    "\n",
    "# Example usage:\n",
    "csv_file_path_1 = \"data/klanten_data.csv\"\n",
    "csv_file_path_2 = \"data/producten_data.csv\"\n",
    "csv_file_path_3 = \"data/transacties_data.csv\"\n",
    "\n",
    "output_csv_path_1 = \"data/cleanData/klanten_data.csv\"\n",
    "output_csv_path_2 = \"data/cleanData/producten_data.csv\"\n",
    "output_csv_path_3 = \"data/cleanData/transacties_data.csv\"\n",
    "\n",
    "remove_missing_values(csv_file_path_1, output_csv_path_1)\n",
    "remove_missing_values(csv_file_path_2, output_csv_path_2)\n",
    "remove_missing_values(csv_file_path_3, output_csv_path_3)\n"
   ]
  }
 ],
 "metadata": {
  "kernelspec": {
   "display_name": "base",
   "language": "python",
   "name": "python3"
  },
  "language_info": {
   "codemirror_mode": {
    "name": "ipython",
    "version": 3
   },
   "file_extension": ".py",
   "mimetype": "text/x-python",
   "name": "python",
   "nbconvert_exporter": "python",
   "pygments_lexer": "ipython3",
   "version": "3.9.7"
  }
 },
 "nbformat": 4,
 "nbformat_minor": 2
}
