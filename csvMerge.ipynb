{
 "cells": [
  {
   "cell_type": "code",
   "execution_count": null,
   "metadata": {},
   "outputs": [],
   "source": [
    "import pandas as pd\n",
    "\n",
    "# Replace these file paths with the actual paths to your CSV files\n",
    "csv_file_paths = ['data/klanten_data.csv', 'data/producten_data.csv', 'data/transacties_data.csv']\n",
    "\n",
    "# Create an empty DataFrame to store the merged data\n",
    "merged_data = pd.DataFrame()\n",
    "\n",
    "# Iterate through each CSV file and concatenate them\n",
    "for file_path in csv_file_paths:\n",
    "    df = pd.read_csv(file_path)\n",
    "    merged_data = pd.concat([merged_data, df], ignore_index=True)\n",
    "\n",
    "# Save the merged data to a new CSV file\n",
    "merged_data.to_csv('data/Orders.csv', index=False)\n"
   ]
  }
 ],
 "metadata": {
  "language_info": {
   "name": "python"
  }
 },
 "nbformat": 4,
 "nbformat_minor": 2
}
